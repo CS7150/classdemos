{
 "cells": [
  {
   "cell_type": "code",
   "execution_count": null,
   "id": "3e51a731",
   "metadata": {},
   "outputs": [],
   "source": [
    "import torch\n",
    "from matplotlib import pyplot as plt\n",
    "\n",
    "z = torch.stack([\n",
    "    torch.linspace(-8.0, 8.0, 201),\n",
    "    torch.zeros(201)\n",
    "])\n",
    "\n",
    "p = torch.softmax(z, dim=0)\n",
    "\n",
    "plt.plot(z[0], p[0])\n",
    "plt.show()\n",
    "p.shape"
   ]
  },
  {
   "cell_type": "code",
   "execution_count": null,
   "id": "760ec2db",
   "metadata": {},
   "outputs": [],
   "source": [
    "import math\n",
    "\n",
    "kl = 0.5 * -torch.log(p).sum(0) + math.log(0.5)\n",
    "plt.plot(z[0], kl)\n",
    "mse = ((p - torch.tensor([0.5, 0.5])[:, None])**2).sum(0)\n",
    "plt.plot(z[0], mse)"
   ]
  },
  {
   "cell_type": "code",
   "execution_count": null,
   "id": "8dfeb799",
   "metadata": {},
   "outputs": [],
   "source": [
    "from baukit import PlotWidget, Range, Checkbox, show\n",
    "\n",
    "xmin, xmax = -6.0, 6.0\n",
    "z = torch.stack([\n",
    "    torch.zeros(201),\n",
    "    torch.linspace(xmin, xmax, 201),\n",
    "])\n",
    "p = torch.softmax(z, dim=0)\n",
    "\n",
    "def compare_loss(fig, y1=0.5, dokl=True, domse=True, doce=True, dol1=True):\n",
    "    [ax1] = fig.axes\n",
    "    y0 = 1.0 - y1\n",
    "    kl = y0 * (math.log(y0) - torch.log(p[0])) + y1 * (math.log(y1) - torch.log(p[1]))\n",
    "    ce = y0 * ( - torch.log(p[0])) + y1 * ( - torch.log(p[1]))\n",
    "    mse = ((p - torch.tensor([y0, y1])[:, None])**2).sum(0)\n",
    "    # sampled_mse = (y0 * ((1-p[0])**2 + p[1]**2)) + (y1 * ((1-p[1])**2 + p[0]**2))\n",
    "    sampled_l1 = (2*y0*p[1] + 2*y1*p[0])\n",
    "    ax1.clear()\n",
    "    ax1.set_ylim(0, 3.0)\n",
    "    ax1.set_xlim(xmin, xmax)\n",
    "    ax1.set_ylabel('Loss')\n",
    "    ax1.set_xlabel('Difference between logits $z_1 - z_0$')\n",
    "    ax1.set_title(f'Loss curve on softmax when target $y_1={y1:.3f}$')\n",
    "\n",
    "    if dokl: ax1.plot(z[1], kl, label='KL', color='b')\n",
    "    if domse: ax1.plot(z[1], mse, label='MSE', color='r')\n",
    "    if doce: ax1.plot(z[1], ce, label='CE', color='g', linestyle='dashed', alpha=0.6)\n",
    "    if dol1: ax1.plot(z[1], sampled_l1, label='L1', color='orange', linestyle='dotted', alpha=0.7)\n",
    "    if dokl or domse or doce or dol1: ax1.legend()\n",
    "\n",
    "def compare_grad(fig, y1=0.5, dokl=True, domse=True):\n",
    "    [ax1] = fig.axes\n",
    "    y0 = 1.0 - y1\n",
    "    kl = p[1] - y1\n",
    "    mse = 4 * (p[1] - y1) * p[1] * p[0]\n",
    "    ax1.clear()\n",
    "    ax1.set_ylim(-0.7, 0.7)\n",
    "    ax1.set_xlim(xmin, xmax)\n",
    "    ax1.set_xlabel('Difference between logits $z_1 - z_0$')\n",
    "    ax1.set_title(f'Gradient of loss with repect to $z_1$ when $y_1={y1:.3f}$')\n",
    "\n",
    "    if dokl:\n",
    "        ax1.plot(z[1], kl, color='b', label=r'$\\frac{\\partial \\mathrm{KL}}{\\partial z_1}$' +\n",
    "            r'=$\\frac{\\partial \\mathrm{CE}}{\\partial z_1}$')\n",
    "    if domse:\n",
    "        ax1.plot(z[1], mse, color='r', label=r'$\\frac{\\partial \\mathrm{MSE}}{\\partial z_1}$')\n",
    "    ax1.axhline(0, color='gray', linewidth=0.5)\n",
    "    if dokl or domse:\n",
    "        ax1.legend(loc='upper left')\n",
    "\n",
    "rw = Range(min=0.001, max=0.999, step=0.001, value=0.5)\n",
    "bkl = Checkbox('KL', value=True)\n",
    "bce = Checkbox('CE', value=False)\n",
    "bmse = Checkbox('MSE', value=True)\n",
    "bl1 = Checkbox('L1', value=False)\n",
    "ploss = PlotWidget(compare_loss, y1=rw.prop('value'),\n",
    "                   dokl=bkl.prop('value'), domse=bmse.prop('value'), doce=bce.prop('value'), dol1=bl1.prop('value'))\n",
    "pgrad = PlotWidget(compare_grad, y1=rw.prop('value'),\n",
    "                   dokl=bkl.prop('value'), domse=bmse.prop('value'))\n",
    "show(show.WRAP, [[[show.raw_html('<div>y<sub>1</sub>:</div>'), show.style(flex=12), rw, bkl, bce, bmse, bl1],\n",
    "                  [ploss, pgrad]]])\n"
   ]
  },
  {
   "cell_type": "markdown",
   "id": "bca17547",
   "metadata": {},
   "source": [
    "dmse/dp1  =  2y1 - 2p1\n",
    "dmse/dp2  =  2y2 - 2p2\n",
    "\n",
    "dp1/dx1 = p1 - p1^2\n",
    "dp2/dx1 = -p1p2\n",
    "\n",
    "\n",
    "dmse/dx1 = 2(y1-p1)*(p1 - p1^2) - 2(y2-p2)(p1p2)\n",
    "         = 2(y1-p1)*(p1 - p1^2) + 2(y1-p1)(p1-p1^2)\n",
    "         = 4(y1-p1)*p1*(1-p1)\n",
    "\n"
   ]
  },
  {
   "cell_type": "code",
   "execution_count": null,
   "id": "338b9762",
   "metadata": {},
   "outputs": [],
   "source": [
    "from baukit import Checkbox\n",
    "\n",
    "cb = Checkbox('hi')\n",
    "cb"
   ]
  },
  {
   "cell_type": "code",
   "execution_count": null,
   "id": "a379c6b3",
   "metadata": {},
   "outputs": [],
   "source": [
    "cb.value = False"
   ]
  }
 ],
 "metadata": {
  "kernelspec": {
   "display_name": "Python 3 (ipykernel)",
   "language": "python",
   "name": "python3"
  },
  "language_info": {
   "codemirror_mode": {
    "name": "ipython",
    "version": 3
   },
   "file_extension": ".py",
   "mimetype": "text/x-python",
   "name": "python",
   "nbconvert_exporter": "python",
   "pygments_lexer": "ipython3",
   "version": "3.10.6"
  }
 },
 "nbformat": 4,
 "nbformat_minor": 5
}
