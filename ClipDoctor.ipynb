{
 "cells": [
  {
   "cell_type": "code",
   "execution_count": null,
   "id": "e9025b70",
   "metadata": {},
   "outputs": [],
   "source": [
    "import torch\n",
    "import clip\n",
    "from PIL import Image\n",
    "import requests\n",
    "from baukit import save_image_set\n",
    "from baukit import ImageFolderSet, show, move_to, pbar\n",
    "import torchvision, os\n",
    "from torch.nn.functional import cosine_similarity\n",
    "from torchvision.datasets.utils import download_and_extract_archive\n",
    "torch.set_grad_enabled(False)\n",
    "\n",
    "device = \"cuda\" if torch.cuda.is_available() else \"cpu\"\n",
    "model, preprocess = clip.load(\"ViT-B/32\", device=device)\n",
    "\n",
    "if not os.path.isdir('coco_humans'):\n",
    "    download_and_extract_archive('https://cs7150.baulab.info/2022-Fall/data/coco_humans.zip', 'coco_humans')\n",
    "\n",
    "images = ImageFolderSet('coco_humans')\n",
    "image_features = torch.cat(\n",
    "    [model.encode_image(preprocess(im[0])[None].to(device)) for im in pbar(images)]\n",
    ")\n",
    "\n"
   ]
  },
  {
   "cell_type": "code",
   "execution_count": null,
   "id": "67800b53",
   "metadata": {},
   "outputs": [],
   "source": [
    "image_tensor = preprocess(images[0][0])\n",
    "show(images[0][0], str(image_tensor.shape), image_tensor)\n"
   ]
  },
  {
   "cell_type": "code",
   "execution_count": null,
   "id": "07500ad3",
   "metadata": {},
   "outputs": [],
   "source": [
    "text_tensor = clip.tokenize('a sunny day')"
   ]
  },
  {
   "cell_type": "code",
   "execution_count": null,
   "id": "63687f55",
   "metadata": {},
   "outputs": [],
   "source": [
    "model.encode_text(text_tensor.cuda())"
   ]
  },
  {
   "cell_type": "code",
   "execution_count": null,
   "id": "44da4ebb",
   "metadata": {},
   "outputs": [],
   "source": [
    "model.encode_image(image_tensor[None].cuda())"
   ]
  },
  {
   "cell_type": "code",
   "execution_count": null,
   "id": "14c23427",
   "metadata": {},
   "outputs": [],
   "source": [
    "from baukit import Textbox, Div\n",
    "\n",
    "def do_search():\n",
    "    tokens = clip.tokenize([query.value]).to(device)\n",
    "    text_features = model.encode_text(tokens)\n",
    "    sim = cosine_similarity(text_features, image_features, dim=1)\n",
    "    result.show(show.WRAP, [[f'{rank+1}: {s:.3f}', images[i]] for rank, (s, i) in enumerate(zip(*sim.topk(12)))])\n",
    "query, result = [Textbox().on('value', do_search), Div()]\n",
    "\n",
    "show([show.attr(placeholder='enter your query'), query],\n",
    "     result)"
   ]
  },
  {
   "cell_type": "code",
   "execution_count": null,
   "id": "b176b606",
   "metadata": {},
   "outputs": [],
   "source": [
    "tokens = clip.tokenize([query.value]).to(device)\n",
    "text_features = model.encode_text(tokens)\n",
    "sim = cosine_similarity(text_features, image_features, dim=1)\n",
    "result.show(show.WRAP, [[rank+1, images[i]] for rank, (s, i) in enumerate(zip(*sim.topk(12)))])\n",
    "query, result = [Textbox().on('value', do_search), Div()]\n"
   ]
  },
  {
   "cell_type": "code",
   "execution_count": null,
   "id": "8b7bbdf3",
   "metadata": {},
   "outputs": [],
   "source": [
    "list(zip(*sim.topk(12)))"
   ]
  }
 ],
 "metadata": {
  "kernelspec": {
   "display_name": "Python 3 (ipykernel)",
   "language": "python",
   "name": "python3"
  },
  "language_info": {
   "codemirror_mode": {
    "name": "ipython",
    "version": 3
   },
   "file_extension": ".py",
   "mimetype": "text/x-python",
   "name": "python",
   "nbconvert_exporter": "python",
   "pygments_lexer": "ipython3",
   "version": "3.10.6"
  }
 },
 "nbformat": 4,
 "nbformat_minor": 5
}
