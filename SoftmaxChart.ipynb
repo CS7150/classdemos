{
 "cells": [
  {
   "cell_type": "code",
   "execution_count": null,
   "id": "5cd4fded",
   "metadata": {},
   "outputs": [],
   "source": [
    "import torch\n",
    "from matplotlib import pyplot as plt\n",
    "\n",
    "z = torch.Tensor([-0.5, 1.8])\n",
    "fig, [ax1, ax2, ax3] = plt.subplots(\n",
    "    1, 3,\n",
    "    gridspec_kw={'width_ratios':[1,5,5]},\n",
    "    figsize=(5,1.5), dpi=300)\n",
    "ax1.bar([0, 1], z, width=0.5, color='purple')\n",
    "ax1.set_xticks([0, 1])\n",
    "ax1.set_xticklabels(['$z_0$', '$z_1$'])\n",
    "ax1.axhline(y=0, color='gray', linewidth=0.5)\n",
    "ax1.set_xlim([-0.5, 1.5])\n",
    "ax1.set_ylim(-2.5, 2.5)\n",
    "p = torch.nn.functional.softmax(z, dim=0)\n",
    "ax2.pie(p, explode=[0.1, 0.1], labels=['$p_0$', '$p_1$'], startangle=180)\n",
    "#ax3.axis('off')\n",
    "#ax3.text(0, 0.5, r'$\\rightarrow L=0.423 \\leftarrow$', fontsize=10)\n",
    "ax3.pie([0.5, 0.5], explode=[0.1, 0.1], labels=['$y_0$', '$y_1$'], startangle=180)\n",
    "fig.tight_layout()\n",
    "plt.show()"
   ]
  }
 ],
 "metadata": {
  "kernelspec": {
   "display_name": "Python 3 (ipykernel)",
   "language": "python",
   "name": "python3"
  },
  "language_info": {
   "codemirror_mode": {
    "name": "ipython",
    "version": 3
   },
   "file_extension": ".py",
   "mimetype": "text/x-python",
   "name": "python",
   "nbconvert_exporter": "python",
   "pygments_lexer": "ipython3",
   "version": "3.10.6"
  }
 },
 "nbformat": 4,
 "nbformat_minor": 5
}
