{
 "cells": [
  {
   "cell_type": "code",
   "execution_count": null,
   "id": "09187173",
   "metadata": {},
   "outputs": [],
   "source": [
    "## Linearly separable boolean functions of n variables\n",
    "\n",
    "amount = [2, 4, 14, 104, 1882, 94572, 15028134, 8378070864, 17561539552946, 144130531453121108]\n",
    "dims = list(range(0, len(amount)))\n",
    "total = [2 ** (2 ** d) for d in dims]\n",
    "fracs = [a / t for a, t in zip(amount, total)]\n",
    "\n",
    "from matplotlib import pyplot as plt\n",
    "\n",
    "fig, ax = plt.subplots(figsize=(6,4), dpi=300)\n",
    "plt.plot(range(1, len(total)), fracs[1:], marker='o')\n",
    "plt.yscale('log')\n",
    "plt.ylim(1e-150, None)\n",
    "plt.xticks(list(range(1, 10)))\n",
    "plt.xlabel('Number of input dimensions d')\n",
    "plt.ylabel('Portion of logical predicates\\ncomputable by one neuron (log scale)')\n",
    "for d, f in zip(dims, fracs):\n",
    "    print(f)\n",
    "    plt.annotate(f'{f:.2g}', # this is the text\n",
    "                 (d, f), # these are the coordinates to position the label\n",
    "                 textcoords=\"offset points\", # how to position the text\n",
    "                 xytext=((1-d )* 3,-15), # distance from text to points (x,y)\n",
    "                 ha='center')  "
   ]
  }
 ],
 "metadata": {
  "kernelspec": {
   "display_name": "Python 3 (ipykernel)",
   "language": "python",
   "name": "python3"
  },
  "language_info": {
   "codemirror_mode": {
    "name": "ipython",
    "version": 3
   },
   "file_extension": ".py",
   "mimetype": "text/x-python",
   "name": "python",
   "nbconvert_exporter": "python",
   "pygments_lexer": "ipython3",
   "version": "3.10.6"
  }
 },
 "nbformat": 4,
 "nbformat_minor": 5
}
