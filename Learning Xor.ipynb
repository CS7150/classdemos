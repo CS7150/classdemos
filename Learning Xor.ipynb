{
 "cells": [
  {
   "cell_type": "code",
   "execution_count": null,
   "id": "e8630a3c",
   "metadata": {},
   "outputs": [],
   "source": [
    "import torch, math, random\n",
    "from collections import OrderedDict\n",
    "from cs7150 import Sign, MPNeuron, Output\n",
    "\n",
    "net = torch.nn.Sequential(OrderedDict([\n",
    "    ('layer1', torch.nn.Linear(2, 2, bias=True)),\n",
    "    ('tanh', torch.nn.Tanh()),\n",
    "    ('layer2', torch.nn.Linear(2, 1, bias=True))\n",
    "]))\n",
    "#with torch.no_grad():\n",
    "#    for n, p in net.named_parameters():\n",
    "#        p[...] = math.log(2) / 2\n",
    "    \n",
    "truth_table = torch.Tensor([\n",
    "    [-1, -1, -1],\n",
    "    [-1,  1,  1],\n",
    "    [ 1, -1,  1],\n",
    "    [ 1,  1, -1],\n",
    "])\n",
    "questions = truth_table[:,:2]\n",
    "answers = truth_table[:,2:]\n",
    "\n",
    "for i in range(100):\n",
    "    error = ((net(questions) - answers) ** 2).sum()\n",
    "    error.backward()\n",
    "    with torch.no_grad():\n",
    "        for p in net.parameters():\n",
    "            p -= 0.1 * p.grad\n",
    "            p.grad = None\n",
    "print('error', ((net(questions) - answers) ** 2).sum())\n",
    "for n, p in net.named_parameters():\n",
    "    print(n, p)"
   ]
  },
  {
   "cell_type": "code",
   "execution_count": null,
   "id": "658affab",
   "metadata": {},
   "outputs": [],
   "source": [
    "net.layer1(questions)"
   ]
  },
  {
   "cell_type": "code",
   "execution_count": null,
   "id": "edc8a593",
   "metadata": {},
   "outputs": [],
   "source": [
    "## print(torch.tanh(torch.log(torch.Tensor([2]))))\n",
    "\n",
    "import math\n",
    "inp = 2\n",
    "(math.exp(math.log(inp)) - math.exp(-math.log(inp))) / (math.exp(math.log(inp)) + math.exp(-math.log(inp)))\n",
    "\n",
    "net."
   ]
  },
  {
   "cell_type": "code",
   "execution_count": null,
   "id": "95ce906b",
   "metadata": {},
   "outputs": [],
   "source": [
    "net2 = torch.nn.Sequential(\n",
    "    MPNeuron(weight_a=torch.randn(()), weight_b=torch.randn(()), output_name='c', activation=torch.nn.Tanh),\n",
    "    MPNeuron(weight_a=torch.randn(()), weight_b=torch.randn(()), weight_c=torch.randn(()), activation=torch.nn.Tanh),\n",
    "    Output()\n",
    ")\n",
    "for i in range(100):\n",
    "    c = random.randrange(4)\n",
    "    q = questions[c:c+1]\n",
    "    a = answers[c:c+1]\n",
    "    error = ((net2(q) - a) ** 2).sum()\n",
    "    error.backward()\n",
    "    with torch.no_grad():\n",
    "        for p in net2.parameters():\n",
    "            p -= 0.01 * p.grad\n",
    "            p.grad = None\n",
    "\n",
    "print(((net2(questions) - answers) ** 2).sum())\n",
    "for n, p in net2.named_parameters():\n",
    "    print(n, p)"
   ]
  },
  {
   "cell_type": "code",
   "execution_count": null,
   "id": "304342d1",
   "metadata": {},
   "outputs": [],
   "source": [
    "torch.randn(())"
   ]
  }
 ],
 "metadata": {
  "kernelspec": {
   "display_name": "Python 3 (ipykernel)",
   "language": "python",
   "name": "python3"
  },
  "language_info": {
   "codemirror_mode": {
    "name": "ipython",
    "version": 3
   },
   "file_extension": ".py",
   "mimetype": "text/x-python",
   "name": "python",
   "nbconvert_exporter": "python",
   "pygments_lexer": "ipython3",
   "version": "3.10.6"
  }
 },
 "nbformat": 4,
 "nbformat_minor": 5
}
