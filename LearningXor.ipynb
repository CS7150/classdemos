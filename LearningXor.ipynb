{
 "cells": [
  {
   "cell_type": "code",
   "execution_count": null,
   "id": "ed34c2bf",
   "metadata": {},
   "outputs": [],
   "source": [
    "import torch, math, random\n",
    "from cs7150 import Sign, MPNeuron\n",
    "\n",
    "net = torch.nn.Sequential(\n",
    "    torch.nn.Linear(2, 2),\n",
    "    torch.nn.Tanh(),\n",
    "    torch.nn.Linear(2, 1)\n",
    ")\n",
    "\n",
    "truth_table = torch.Tensor([\n",
    "    [-1, -1,  1],\n",
    "    [-1,  1, -1],\n",
    "    [ 1, -1, -1],\n",
    "    [-1, -1,  1],\n",
    "])\n",
    "questions = truth_table[:,:2]\n",
    "answers = truth_table[:,2:]\n",
    "\n",
    "\n",
    "for i in range(100):\n",
    "    c = random.randint(4)\n",
    "    q = questions[c:c+1]\n",
    "    a = answers[c:c+1]\n",
    "    error = ((net(q) - a) ** 2).sum()\n",
    "    error.backward()\n",
    "    with torch.no_grad():\n",
    "        for p in net.parameters():\n",
    "            p -= 0.1 * p.grad\n",
    "            p.grad = None\n",
    "\n",
    "    print(error)\n",
    "\n",
    "for n, p in net.named_parameters():\n",
    "    print(n, p)"
   ]
  },
  {
   "cell_type": "code",
   "execution_count": null,
   "id": "7bb06e4b",
   "metadata": {},
   "outputs": [],
   "source": []
  }
 ],
 "metadata": {
  "kernelspec": {
   "display_name": "Python 3 (ipykernel)",
   "language": "python",
   "name": "python3"
  },
  "language_info": {
   "codemirror_mode": {
    "name": "ipython",
    "version": 3
   },
   "file_extension": ".py",
   "mimetype": "text/x-python",
   "name": "python",
   "nbconvert_exporter": "python",
   "pygments_lexer": "ipython3",
   "version": "3.10.6"
  }
 },
 "nbformat": 4,
 "nbformat_minor": 5
}
